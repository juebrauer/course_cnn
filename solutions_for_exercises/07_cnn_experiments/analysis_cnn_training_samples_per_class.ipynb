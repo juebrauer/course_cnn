{
 "cells": [
  {
   "cell_type": "markdown",
   "metadata": {},
   "source": [
    "# Collect result data from training history files"
   ]
  },
  {
   "cell_type": "code",
   "execution_count": 1,
   "metadata": {},
   "outputs": [],
   "source": [
    "result_folder = \"exp_results_training_data_size/results_imagenette2\"\n",
    "#result_folder = \"exp_results_training_data_size/results_imagewoof\""
   ]
  },
  {
   "cell_type": "code",
   "execution_count": 3,
   "metadata": {},
   "outputs": [],
   "source": [
    "import os\n",
    "from os import listdir\n",
    "from os.path import isdir, isfile, join"
   ]
  },
  {
   "cell_type": "code",
   "execution_count": 4,
   "metadata": {},
   "outputs": [],
   "source": [
    "filenames = [result_folder + \"/\" + f\n",
    "             for f in listdir(result_folder)\n",
    "                 if isfile(join(result_folder, f)) and f.endswith(\".history\")]"
   ]
  },
  {
   "cell_type": "code",
   "execution_count": 5,
   "metadata": {},
   "outputs": [
    {
     "data": {
      "text/plain": [
       "['exp_results_training_data_size/results_imagenette2/exp_037_same-nr-filters_imagenette_500.history',\n",
       " 'exp_results_training_data_size/results_imagenette2/exp_028_inc-nr-filters_imagenette_400.history',\n",
       " 'exp_results_training_data_size/results_imagenette2/exp_094_inc-nr-filters_imagenette_600.history',\n",
       " 'exp_results_training_data_size/results_imagenette2/exp_092_inc-nr-filters_imagenette_400.history',\n",
       " 'exp_results_training_data_size/results_imagenette2/exp_027_inc-nr-filters_imagenette_300.history',\n",
       " 'exp_results_training_data_size/results_imagenette2/exp_025_inc-nr-filters_imagenette_100.history',\n",
       " 'exp_results_training_data_size/results_imagenette2/exp_032_inc-nr-filters_imagenette_800.history',\n",
       " 'exp_results_training_data_size/results_imagenette2/exp_009_inc-nr-filters_imagenette_100.history',\n",
       " 'exp_results_training_data_size/results_imagenette2/exp_002_same-nr-filters_imagenette_200.history',\n",
       " 'exp_results_training_data_size/results_imagenette2/exp_090_inc-nr-filters_imagenette_200.history']"
      ]
     },
     "execution_count": 5,
     "metadata": {},
     "output_type": "execute_result"
    }
   ],
   "source": [
    "filenames[:10]"
   ]
  },
  {
   "cell_type": "code",
   "execution_count": 6,
   "metadata": {},
   "outputs": [
    {
     "name": "stdout",
     "output_type": "stream",
     "text": [
      "\n",
      "Data from exp_results_training_data_size/results_imagenette2/exp_037_same-nr-filters_imagenette_500.history\n",
      "{'final_tst_cl_rate': 0.5011464968152867, 'nr_training_samples': 500, 'cnn_model_name': 'same'}\n",
      "\n",
      "Data from exp_results_training_data_size/results_imagenette2/exp_028_inc-nr-filters_imagenette_400.history\n",
      "{'final_tst_cl_rate': 0.566624203821656, 'nr_training_samples': 400, 'cnn_model_name': 'inc'}\n",
      "\n",
      "Data from exp_results_training_data_size/results_imagenette2/exp_094_inc-nr-filters_imagenette_600.history\n",
      "{'final_tst_cl_rate': 0.587515923566879, 'nr_training_samples': 600, 'cnn_model_name': 'inc'}\n",
      "\n",
      "Data from exp_results_training_data_size/results_imagenette2/exp_092_inc-nr-filters_imagenette_400.history\n",
      "{'final_tst_cl_rate': 0.5515923566878981, 'nr_training_samples': 400, 'cnn_model_name': 'inc'}\n",
      "\n",
      "Data from exp_results_training_data_size/results_imagenette2/exp_027_inc-nr-filters_imagenette_300.history\n",
      "{'final_tst_cl_rate': 0.5903184713375796, 'nr_training_samples': 300, 'cnn_model_name': 'inc'}\n",
      "\n",
      "Data from exp_results_training_data_size/results_imagenette2/exp_025_inc-nr-filters_imagenette_100.history\n",
      "{'final_tst_cl_rate': 0.4402547770700637, 'nr_training_samples': 100, 'cnn_model_name': 'inc'}\n",
      "\n",
      "Data from exp_results_training_data_size/results_imagenette2/exp_032_inc-nr-filters_imagenette_800.history\n",
      "{'final_tst_cl_rate': 0.6280254777070063, 'nr_training_samples': 800, 'cnn_model_name': 'inc'}\n",
      "\n",
      "Data from exp_results_training_data_size/results_imagenette2/exp_009_inc-nr-filters_imagenette_100.history\n",
      "{'final_tst_cl_rate': 0.4198726114649681, 'nr_training_samples': 100, 'cnn_model_name': 'inc'}\n",
      "\n",
      "Data from exp_results_training_data_size/results_imagenette2/exp_002_same-nr-filters_imagenette_200.history\n",
      "{'final_tst_cl_rate': 0.39770700636942674, 'nr_training_samples': 200, 'cnn_model_name': 'same'}\n",
      "\n",
      "Data from exp_results_training_data_size/results_imagenette2/exp_090_inc-nr-filters_imagenette_200.history\n",
      "{'final_tst_cl_rate': 0.5309554140127388, 'nr_training_samples': 200, 'cnn_model_name': 'inc'}\n",
      "\n",
      "I have collected results from 96 experiments\n"
     ]
    }
   ],
   "source": [
    "import pickle\n",
    "import matplotlib.pyplot as plt\n",
    "\n",
    "all_exp_results = []\n",
    "\n",
    "for filename in filenames:\n",
    "    \n",
    "    # 1. Read in the training/testing history from\n",
    "    #    the .history file using pickle    \n",
    "    fhandle = open(filename, \"rb\")\n",
    "    history = pickle.load(fhandle)\n",
    "    #print(\"history is of type {0}\".format(type(history)))\n",
    "    #print(\"history: {0}\".format(history))\n",
    "    fhandle.close()\n",
    "    \n",
    "    \n",
    "    # 2. Get the training and testing classification rates\n",
    "    tr_cl_rates = history[\"cl_rate_train\"]\n",
    "    tst_cl_rates = history[\"cl_rate_test\"]\n",
    "    # Show training / test classification rates as a graph?\n",
    "    if False:\n",
    "        plt.plot(tr_cl_rates)\n",
    "        plt.plot(tst_cl_rates)\n",
    "        plt.grid()\n",
    "        plt.show()\n",
    "        \n",
    "\n",
    "    # 3. Get the final classification rate on the test data\n",
    "    final_tst_cl_rate = tst_cl_rates[-1]\n",
    "    #print(\"Nr of epochs: {0}\".format(len(tr_cl_rates)))    \n",
    "    \n",
    "    \n",
    "    # 4. Get the number of training samples used in this experiment\n",
    "    #    from the filename\n",
    "    nr_training_samples = int(filename[-11:-8])\n",
    "        \n",
    "    \n",
    "    # 5. Get name of CNN model\n",
    "    import re\n",
    "    m = re.search('/exp_(.+?)-nr-filters', filename)\n",
    "    cnn_model_name = m.group(1)\n",
    "    cnn_model_name = cnn_model_name[4:]\n",
    "    \n",
    "    \n",
    "    # 6. Compile a dictionary with the results for this experiment and store it in\n",
    "    #    the list of all experiment results\n",
    "    d = {\"final_tst_cl_rate\" : final_tst_cl_rate,\n",
    "         \"nr_training_samples\" : nr_training_samples,\n",
    "         \"cnn_model_name\": cnn_model_name}\n",
    "    if len(all_exp_results)<10:\n",
    "        print(\"\\nData from {0}\".format(filename))\n",
    "        print(d)\n",
    "    all_exp_results.append( d )\n",
    "    \n",
    "nr_experiments_conducted = len(all_exp_results)\n",
    "print(\"\\nI have collected results from {0} experiments\".format(nr_experiments_conducted))\n",
    "    "
   ]
  },
  {
   "cell_type": "markdown",
   "metadata": {},
   "source": [
    "# Plot the results"
   ]
  },
  {
   "cell_type": "code",
   "execution_count": 8,
   "metadata": {},
   "outputs": [
    {
     "name": "stdout",
     "output_type": "stream",
     "text": [
      "Average test classification rate: 0.50\n"
     ]
    },
    {
     "data": {
      "image/png": "[encoded data removed]",
      "text/plain": [
       "<Figure size 432x288 with 1 Axes>"
      ]
     },
     "metadata": {
      "needs_background": "light"
     },
     "output_type": "display_data"
    }
   ],
   "source": [
    "filter_for_cnn = \"same\"\n",
    "#filter_for_cnn = \"inc\"\n",
    "\n",
    "sum_working_models = 0.0\n",
    "nr_working_models = 0\n",
    "for exp_dict in all_exp_results:\n",
    "    \n",
    "    if exp_dict[\"cnn_model_name\"] == filter_for_cnn:\n",
    "        \n",
    "        x = exp_dict[\"nr_training_samples\"]\n",
    "        y = exp_dict[\"final_tst_cl_rate\"]\n",
    "        \n",
    "        plt.plot(x,y, marker=\".\", color=\"black\")\n",
    "        \n",
    "        if y > 0.15:\n",
    "            nr_working_models +=1\n",
    "            sum_working_models += y            \n",
    "\n",
    "avg_clf_rate = sum_working_models/nr_working_models\n",
    "print(\"Average test classification rate: {0:0.2f}\"\n",
    "      .format(avg_clf_rate))\n",
    "\n",
    "plt.grid()\n",
    "plt.show()"
   ]
  },
  {
   "cell_type": "code",
   "execution_count": null,
   "metadata": {},
   "outputs": [],
   "source": []
  }
 ],
 "metadata": {
  "kernelspec": {
   "display_name": "Python 3",
   "language": "python",
   "name": "python3"
  },
  "language_info": {
   "codemirror_mode": {
    "name": "ipython",
    "version": 3
   },
   "file_extension": ".py",
   "mimetype": "text/x-python",
   "name": "python",
   "nbconvert_exporter": "python",
   "pygments_lexer": "ipython3",
   "version": "3.7.7"
  },
  "toc-autonumbering": true
 },
 "nbformat": 4,
 "nbformat_minor": 4
}
