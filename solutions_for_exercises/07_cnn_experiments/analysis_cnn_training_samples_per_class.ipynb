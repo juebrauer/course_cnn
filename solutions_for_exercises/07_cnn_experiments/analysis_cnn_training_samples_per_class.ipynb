{
 "cells": [
  {
   "cell_type": "markdown",
   "metadata": {},
   "source": [
    "# Read in all result files"
   ]
  },
  {
   "cell_type": "code",
   "execution_count": 1,
   "metadata": {},
   "outputs": [],
   "source": [
    "result_folder = \"exp_results/run1_renamed/inc-nr-filters\""
   ]
  },
  {
   "cell_type": "code",
   "execution_count": 2,
   "metadata": {},
   "outputs": [],
   "source": [
    "import os\n",
    "from os import listdir\n",
    "from os.path import isdir, isfile, join"
   ]
  },
  {
   "cell_type": "code",
   "execution_count": 8,
   "metadata": {},
   "outputs": [],
   "source": [
    "filenames = [result_folder + \"/\" + f\n",
    "             for f in listdir(result_folder)\n",
    "                 if isfile(join(result_folder, f))]"
   ]
  },
  {
   "cell_type": "code",
   "execution_count": 9,
   "metadata": {},
   "outputs": [
    {
     "data": {
      "text/plain": [
       "['exp_results/run1_renamed/inc-nr-filters/exp_028_inc-nr-filters_imagenette_400.history',\n",
       " 'exp_results/run1_renamed/inc-nr-filters/exp_027_inc-nr-filters_imagenette_300.history',\n",
       " 'exp_results/run1_renamed/inc-nr-filters/exp_025_inc-nr-filters_imagenette_100.history',\n",
       " 'exp_results/run1_renamed/inc-nr-filters/exp_032_inc-nr-filters_imagenette_800.history',\n",
       " 'exp_results/run1_renamed/inc-nr-filters/exp_009_inc-nr-filters_imagenette_100.history',\n",
       " 'exp_results/run1_renamed/inc-nr-filters/exp_013_inc-nr-filters_imagenette_500.history',\n",
       " 'exp_results/run1_renamed/inc-nr-filters/exp_041_inc-nr-filters_imagenette_100.history',\n",
       " 'exp_results/run1_renamed/inc-nr-filters/exp_030_inc-nr-filters_imagenette_600.history',\n",
       " 'exp_results/run1_renamed/inc-nr-filters/exp_048_inc-nr-filters_imagenette_800.history',\n",
       " 'exp_results/run1_renamed/inc-nr-filters/exp_011_inc-nr-filters_imagenette_300.history',\n",
       " 'exp_results/run1_renamed/inc-nr-filters/exp_043_inc-nr-filters_imagenette_300.history',\n",
       " 'exp_results/run1_renamed/inc-nr-filters/exp_016_inc-nr-filters_imagenette_800.history',\n",
       " 'exp_results/run1_renamed/inc-nr-filters/exp_010_inc-nr-filters_imagenette_200.history',\n",
       " 'exp_results/run1_renamed/inc-nr-filters/exp_044_inc-nr-filters_imagenette_400.history',\n",
       " 'exp_results/run1_renamed/inc-nr-filters/exp_014_inc-nr-filters_imagenette_600.history',\n",
       " 'exp_results/run1_renamed/inc-nr-filters/exp_015_inc-nr-filters_imagenette_700.history',\n",
       " 'exp_results/run1_renamed/inc-nr-filters/exp_012_inc-nr-filters_imagenette_400.history',\n",
       " 'exp_results/run1_renamed/inc-nr-filters/exp_031_inc-nr-filters_imagenette_700.history',\n",
       " 'exp_results/run1_renamed/inc-nr-filters/exp_042_inc-nr-filters_imagenette_200.history',\n",
       " 'exp_results/run1_renamed/inc-nr-filters/exp_029_inc-nr-filters_imagenette_500.history',\n",
       " 'exp_results/run1_renamed/inc-nr-filters/exp_026_inc-nr-filters_imagenette_200.history',\n",
       " 'exp_results/run1_renamed/inc-nr-filters/exp_046_inc-nr-filters_imagenette_600.history',\n",
       " 'exp_results/run1_renamed/inc-nr-filters/exp_047_inc-nr-filters_imagenette_700.history',\n",
       " 'exp_results/run1_renamed/inc-nr-filters/exp_045_inc-nr-filters_imagenette_500.history']"
      ]
     },
     "execution_count": 9,
     "metadata": {},
     "output_type": "execute_result"
    }
   ],
   "source": [
    "filenames"
   ]
  },
  {
   "cell_type": "code",
   "execution_count": 26,
   "metadata": {},
   "outputs": [
    {
     "name": "stdout",
     "output_type": "stream",
     "text": [
      "Reading in exp_results/run1_renamed/inc-nr-filters/exp_028_inc-nr-filters_imagenette_400.history\n",
      "history is of type <class 'dict'>\n",
      "history: {'cl_rate_train': [0.09225, 0.1, 0.19475, 0.30775, 0.3015, 0.48925, 0.5455, 0.58325, 0.6755, 0.68025, 0.77525, 0.80275, 0.84525, 0.85425, 0.8955, 0.91125, 0.95475, 0.954, 0.98025, 0.9415, 0.97725, 0.9895, 0.94175, 0.98625, 0.97975, 0.976, 0.94425, 0.991, 0.99825, 0.995, 0.99425, 0.996, 0.97775, 0.976, 0.9665, 0.993, 0.994, 0.9865, 0.9975, 0.9855, 0.9975, 0.98975, 0.99925, 0.9875, 0.98325, 0.9915, 0.99325, 0.99825, 0.98975, 0.994, 0.9725], 'cl_rate_test': [0.09222929936305732, 0.09859872611464968, 0.18929936305732484, 0.2937579617834395, 0.29273885350318474, 0.4535031847133758, 0.48509554140127387, 0.514140127388535, 0.5673885350318472, 0.5521019108280255, 0.6053503184713376, 0.5905732484076434, 0.6045859872611465, 0.5770700636942675, 0.5847133757961783, 0.572484076433121, 0.5969426751592357, 0.5928662420382166, 0.6035668789808917, 0.5829299363057325, 0.58828025477707, 0.594140127388535, 0.5648407643312102, 0.5994904458598727, 0.5831847133757961, 0.5862420382165605, 0.5605095541401274, 0.6022929936305732, 0.6015286624203822, 0.5946496815286624, 0.5938853503184713, 0.5946496815286624, 0.5707006369426751, 0.5737579617834395, 0.5661146496815287, 0.584203821656051, 0.5864968152866242, 0.5826751592356688, 0.596687898089172, 0.5740127388535032, 0.5898089171974522, 0.584968152866242, 0.6010191082802547, 0.5742675159235668, 0.5668789808917197, 0.5819108280254777, 0.5910828025477707, 0.6, 0.5717197452229299, 0.578343949044586, 0.566624203821656], 'training_aborted_due_to_no_progress': False}\n"
     ]
    },
    {
     "data": {
      "image/png": "[encoded data removed]",
      "text/plain": [
       "<Figure size 432x288 with 1 Axes>"
      ]
     },
     "metadata": {
      "needs_background": "light"
     },
     "output_type": "display_data"
    },
    {
     "name": "stdout",
     "output_type": "stream",
     "text": [
      "Nr of epochs: 51\n",
      "Final test classification rate was: 0.566624203821656\n",
      "Nr of training samples: 400\n"
     ]
    }
   ],
   "source": [
    "import pickle\n",
    "import matplotlib.pyplot as plt\n",
    "\n",
    "for filename in filenames:\n",
    "    print(\"Reading in {0}\".format(filename))\n",
    "    fhandle = open(filename, \"rb\")\n",
    "    history = pickle.load(fhandle)\n",
    "    print(\"history is of type {0}\".format(type(history)))\n",
    "    print(\"history: {0}\".format(history))\n",
    "    fhandle.close()\n",
    "    tr_cl_rates = history[\"cl_rate_train\"]\n",
    "    tst_cl_rates = history[\"cl_rate_test\"]\n",
    "    plt.plot(tr_cl_rates)\n",
    "    plt.plot(tst_cl_rates)\n",
    "    plt.show()\n",
    "    print(\"Nr of epochs: {0}\".format(len(tr_cl_rates)))\n",
    "    final_tst_cl_rate = tst_cl_rates[-1]\n",
    "    print(\"Final test classification rate was: {0}\".format(final_tst_cl_rate))\n",
    "    nr_training_samples = int(filename[-11:-8])\n",
    "    print(\"Nr of training samples: {0}\".format(nr_training_samples))\n",
    "    break"
   ]
  },
  {
   "cell_type": "code",
   "execution_count": null,
   "metadata": {},
   "outputs": [],
   "source": []
  }
 ],
 "metadata": {
  "kernelspec": {
   "display_name": "Python 3",
   "language": "python",
   "name": "python3"
  },
  "language_info": {
   "codemirror_mode": {
    "name": "ipython",
    "version": 3
   },
   "file_extension": ".py",
   "mimetype": "text/x-python",
   "name": "python",
   "nbconvert_exporter": "python",
   "pygments_lexer": "ipython3",
   "version": "3.7.7"
  },
  "toc-autonumbering": true
 },
 "nbformat": 4,
 "nbformat_minor": 4
}
